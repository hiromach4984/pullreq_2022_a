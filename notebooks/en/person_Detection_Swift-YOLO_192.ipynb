{
  "cells": [
    {
      "cell_type": "markdown",
      "metadata": {
        "id": "h5bd0sZ6eLYE"
      },
      "source": [
        "<div align=\"center\">\n",
        "  <h1>Welcom to SSCMA for Google Colab Training Example 🔥 </h1>\n",
        "  <a href=\"https://sensecraftma.seeed.cc/\" target=\"_blank\"><img width=\"20%\" src=\"https://files.seeedstudio.com/sscma/docs/images/SSCMA-Hero.png\"></a>\n",
        "</div>"
      ]
    },
    {
      "cell_type": "markdown",
      "metadata": {
        "id": "AhiO3UbNeLYG"
      },
      "source": [
        "## ⚠️ Important Notice\n",
        "\n",
        "Before you begin, please ensure:\n",
        "\n",
        "1. **Enable GPU Acceleration**: Click `Runtime` → `Change runtime type` → Select `GPU` in `Hardware accelerator`\n",
        "2. **Colab Version Requirement**: **You MUST use Colab version 2025.07** for compatibility. Other versions may cause unexpected errors.\n",
        "\n",
        "If you encounter version-related issues, you can run the following commands in the first code cell to check your environment:\n",
        "\n",
        "```python\n",
        "# Check if GPU is available\n",
        "!nvidia-smi\n",
        "\n",
        "# Check Python version\n",
        "!python --version\n",
        "```"
      ]
    },
    {
      "cell_type": "code",
      "source": [
        "# Check if GPU is available\n",
        "!nvidia-smi\n",
        "\n",
        "# Check Python version\n",
        "!python --version"
      ],
      "metadata": {
        "id": "12IgRnW5fcur",
        "outputId": "64104e5b-6945-490d-cd16-9ad26e255505",
        "colab": {
          "base_uri": "https://localhost:8080/"
        }
      },
      "execution_count": 1,
      "outputs": [
        {
          "output_type": "stream",
          "name": "stdout",
          "text": [
            "/bin/bash: line 1: nvidia-smi: command not found\n",
            "Python 3.11.13\n"
          ]
        }
      ]
    },
    {
      "cell_type": "markdown",
      "metadata": {
        "id": "V03Ri-n_eLYI"
      },
      "source": [
        "# person Detection - Swift-YOLO\n",
        "\n",
        "[![Open in Colab](https://colab.research.google.com/assets/colab-badge.svg)](https://colab.research.google.com/github/seeed-studio/sscma-model-zoo/blob/main/notebooks/en/person_Detection_Swift-YOLO_192.ipynb)\n",
        "\n",
        "**Version:** 1.0.0\n",
        "\n",
        "**Category:** Object Detection\n",
        "\n",
        "**Algorithm:** [Swift-YOLO](configs/swift_yolo/swift_yolo_tiny_1xb16_300e_coco.py)\n",
        "\n",
        "**Dataset:** [Person](https://universe.roboflow.com/hanzhou-7mktt/ssperson/dataset/7#)\n",
        "\n",
        "**Class:** `person`\n",
        "\n",
        "![person Detection](https://files.seeedstudio.com/sscma/static/detection_person.png)\n",
        "\n",
        "The model is a Swift-YOLO model trained on the person detection dataset.\n",
        "\n"
      ]
    },
    {
      "cell_type": "markdown",
      "metadata": {
        "id": "p-jQ9z3qeLYJ"
      },
      "source": [
        "## ⚙️Prerequisites\n",
        "### Setup SSCMA\n",
        "Clone the [repository](https://github.com/Seeed-Studio/ModelAssistant) and install the dependencies."
      ]
    },
    {
      "cell_type": "code",
      "execution_count": 2,
      "metadata": {
        "id": "P9ES-QODeLYK",
        "outputId": "e7f589c5-a611-4f31-f5df-65eeb3e7c6ea",
        "colab": {
          "base_uri": "https://localhost:8080/"
        }
      },
      "outputs": [
        {
          "output_type": "stream",
          "name": "stdout",
          "text": [
            "Cloning into 'ethos-u-vela'...\n",
            "remote: Counting objects: 80, done\u001b[K\n",
            "remote: Finding sources: 100% (10824/10824)\u001b[K\n",
            "remote: Total 10824 (delta 6916), reused 9357 (delta 6916)\u001b[K\n",
            "Receiving objects: 100% (10824/10824), 5.76 MiB | 5.98 MiB/s, done.\n",
            "Resolving deltas: 100% (6916/6916), done.\n",
            "/content/ethos-u-vela\n",
            "Processing /content/ethos-u-vela\n",
            "  Installing build dependencies ... \u001b[?25l\u001b[?25hdone\n",
            "  Getting requirements to build wheel ... \u001b[?25l\u001b[?25hdone\n",
            "  Preparing metadata (pyproject.toml) ... \u001b[?25l\u001b[?25hdone\n",
            "Collecting flatbuffers==24.3.25 (from ethos-u-vela==4.1.1.dev18+g86ea209)\n",
            "  Downloading flatbuffers-24.3.25-py2.py3-none-any.whl.metadata (850 bytes)\n",
            "Requirement already satisfied: numpy>1.10.0 in /usr/local/lib/python3.11/dist-packages (from ethos-u-vela==4.1.1.dev18+g86ea209) (2.0.2)\n",
            "Requirement already satisfied: lxml>=4.5.2 in /usr/local/lib/python3.11/dist-packages (from ethos-u-vela==4.1.1.dev18+g86ea209) (5.4.0)\n",
            "Downloading flatbuffers-24.3.25-py2.py3-none-any.whl (26 kB)\n",
            "Building wheels for collected packages: ethos-u-vela\n",
            "  Building wheel for ethos-u-vela (pyproject.toml) ... \u001b[?25l\u001b[?25hdone\n",
            "  Created wheel for ethos-u-vela: filename=ethos_u_vela-4.1.1.dev18+g86ea209-cp311-cp311-linux_x86_64.whl size=1671009 sha256=48eb41a9afbde48ee4b7967c18fb2e2b1e7f12d7e9dc4de64468dd1673d3b84a\n",
            "  Stored in directory: /root/.cache/pip/wheels/0f/8d/f3/56b8fc1b5927beb7f3629d39480aaebf15c73f19e798948e1f\n",
            "Successfully built ethos-u-vela\n",
            "Installing collected packages: flatbuffers, ethos-u-vela\n",
            "  Attempting uninstall: flatbuffers\n",
            "    Found existing installation: flatbuffers 25.2.10\n",
            "    Uninstalling flatbuffers-25.2.10:\n",
            "      Successfully uninstalled flatbuffers-25.2.10\n",
            "Successfully installed ethos-u-vela-4.1.1.dev18+g86ea209 flatbuffers-24.3.25\n",
            "/content\n",
            "Cloning into 'ModelAssistant'...\n",
            "remote: Enumerating objects: 15751, done.\u001b[K\n",
            "remote: Counting objects: 100% (32/32), done.\u001b[K\n",
            "remote: Compressing objects: 100% (30/30), done.\u001b[K\n",
            "remote: Total 15751 (delta 3), reused 17 (delta 2), pack-reused 15719 (from 1)\u001b[K\n",
            "Receiving objects: 100% (15751/15751), 26.60 MiB | 12.67 MiB/s, done.\n",
            "Resolving deltas: 100% (9189/9189), done.\n",
            "/content/ModelAssistant\n",
            "Checking if CUDA available... \u001b[031mNot found!\u001b[m\n",
            "Please enable GPU Runtime\u001b[m\n"
          ]
        }
      ],
      "source": [
        "# Ethos-U-Vela need to be installed this way, or SSCMA does not work anymore...\n",
        "!git clone https://review.mlplatform.org/ml/ethos-u/ethos-u-vela.git\n",
        "%cd ethos-u-vela\n",
        "!pip install .\n",
        "%cd ..\n",
        "\n",
        "!git clone https://github.com/Seeed-Studio/ModelAssistant.git -b 2.0.0  #clone the repo\n",
        "%cd ModelAssistant\n",
        "!. ./scripts/setup_colab.sh"
      ]
    },
    {
      "cell_type": "markdown",
      "metadata": {
        "id": "yQe2HkbkeLYL"
      },
      "source": [
        "### Download the pretrain model weights file"
      ]
    },
    {
      "cell_type": "code",
      "execution_count": 3,
      "metadata": {
        "id": "91BinT9xeLYM",
        "outputId": "663b2e58-4ce4-4bd3-b7c2-94af7d3066f9",
        "colab": {
          "base_uri": "https://localhost:8080/"
        }
      },
      "outputs": [
        {
          "output_type": "stream",
          "name": "stdout",
          "text": [
            "--2025-10-24 00:08:55--  https://files.seeedstudio.com/sscma/model_zoo/detection/person/person_detection.pth\n",
            "Resolving files.seeedstudio.com (files.seeedstudio.com)... 3.165.63.81, 3.165.63.59, 3.165.63.67, ...\n",
            "Connecting to files.seeedstudio.com (files.seeedstudio.com)|3.165.63.81|:443... connected.\n",
            "HTTP request sent, awaiting response... 200 OK\n",
            "Length: 23352107 (22M) [application/octet-stream]\n",
            "Saving to: ‘person_Detection_Swift-YOLO_192/pretrain.pth’\n",
            "\n",
            "person_Detection_Sw 100%[===================>]  22.27M  11.0MB/s    in 2.0s    \n",
            "\n",
            "2025-10-24 00:08:58 (11.0 MB/s) - ‘person_Detection_Swift-YOLO_192/pretrain.pth’ saved [23352107/23352107]\n",
            "\n"
          ]
        }
      ],
      "source": [
        "%mkdir -p person_Detection_Swift-YOLO_192\n",
        "!wget -c https://files.seeedstudio.com/sscma/model_zoo/detection/person/person_detection.pth -O person_Detection_Swift-YOLO_192/pretrain.pth"
      ]
    },
    {
      "cell_type": "markdown",
      "metadata": {
        "id": "Cnd1NCOfeLYN"
      },
      "source": [
        "### Download the dataset"
      ]
    },
    {
      "cell_type": "code",
      "execution_count": 5,
      "metadata": {
        "id": "fZea9aoheLYO",
        "outputId": "f8e90f97-babd-47e9-f68d-5b6ba7d55e7f",
        "colab": {
          "base_uri": "https://localhost:8080/"
        }
      },
      "outputs": [
        {
          "output_type": "stream",
          "name": "stdout",
          "text": [
            "humann_Detection_Swift-YOLO_192/dataset.zip: No such file or directory\n",
            "unzip:  cannot find or open human_Detection_Swift-YOLO_192/dataset.zip, human_Detection_Swift-YOLO_192/dataset.zip.zip or human_Detection_Swift-YOLO_192/dataset.zip.ZIP.\n"
          ]
        }
      ],
      "source": [
        "%mkdir -p human_Detection_Swift-YOLO_192/dataset\n",
        "!wget -c https://app.roboflow.com/ds/GF4O5E095r?key=Eb08PIJtbN -O humann_Detection_Swift-YOLO_192/dataset.zip\n",
        "!unzip -q human_Detection_Swift-YOLO_192/dataset.zip -d person_Detection_Swift-YOLO_192/dataset"
      ]
    },
    {
      "cell_type": "markdown",
      "metadata": {
        "id": "dDbpmtaieLYO"
      },
      "source": [
        "## 🚀Train a model with SSCMA\n",
        "All the training parameters are in the `config.py` file, you can change the parameters to train your own model.\n",
        "\n",
        "Below are explanations of some common parameters. You can also refer to the [documentation](https://sensecraftma.seeed.cc/tutorials/config) for more details.\n",
        "- `data_root` - the datasets path.\n",
        "- `epochs`- the train epochs. **we use 10 epochs as an example**.\n",
        "- `batch_size` - the batch size.\n",
        "- `height` - the image height.\n",
        "- `width` - the image width.\n",
        "- `load_from` - the pretrained model path.\n",
        "- `num_classes` - the number of classes.\n",
        "\n",
        "You can overwrite the parameters in the `config.py` file by using the `--cfg-options` argument.\n",
        "```bash\n",
        "# Example\n",
        "sscma.train config.py --cfg-options data_root=./datasets/test_dataset epochs=10\n",
        "```"
      ]
    },
    {
      "cell_type": "code",
      "execution_count": 6,
      "metadata": {
        "id": "a44W3WD5eLYP",
        "outputId": "c3e34eb8-372f-4aa2-a35f-7ec9023919f8",
        "colab": {
          "base_uri": "https://localhost:8080/"
        }
      },
      "outputs": [
        {
          "output_type": "stream",
          "name": "stdout",
          "text": [
            "/bin/bash: line 1: sscma.train: command not found\n"
          ]
        }
      ],
      "source": [
        "!sscma.train configs/swift_yolo/swift_yolo_tiny_1xb16_300e_coco.py \\\n",
        "--cfg-options  \\\n",
        "    work_dir=person_Detection_Swift-YOLO_192 \\\n",
        "    num_classes=1 \\\n",
        "    epochs=10  \\\n",
        "    height=192 \\\n",
        "    width=192 \\\n",
        "    data_root=person_Detection_Swift-YOLO_192/dataset/ \\\n",
        "    load_from=person_Detection_Swift-YOLO_192/pretrain.pth"
      ]
    },
    {
      "cell_type": "markdown",
      "metadata": {
        "id": "rru3QHqTeLYQ"
      },
      "source": [
        "## 📦Export the model\n",
        "After training, you can export the model to the format for deployment. SSCMA supports exporting to ONNX, and TensorFlow Lite at present.\n",
        "You can also refer to the [documentation](https://sensecraftma.seeed.cc/tutorials/export/overview) for more details.\n",
        "\n",
        "```bash\n",
        "python3 tools/export.py \\\n",
        "    \"<CONFIG_FILE_PATH>\" \\\n",
        "    \"<CHECKPOINT_FILE_PATH>\"\n",
        "```"
      ]
    },
    {
      "cell_type": "code",
      "execution_count": null,
      "metadata": {
        "id": "D6fRSZwEeLYQ"
      },
      "outputs": [],
      "source": [
        "import os\n",
        "with open('person_Detection_Swift-YOLO_192/last_checkpoint', 'r') as f:\n",
        "\tos.environ['CHECKPOINT_FILE_PATH'] = f.read()"
      ]
    },
    {
      "cell_type": "code",
      "execution_count": null,
      "metadata": {
        "id": "NfWHIPWpeLYQ"
      },
      "outputs": [],
      "source": [
        "!sscma.export configs/swift_yolo/swift_yolo_tiny_1xb16_300e_coco.py $CHECKPOINT_FILE_PATH --cfg-options  \\\n",
        "    work_dir=person_Detection_Swift-YOLO_192 \\\n",
        "    num_classes=1 \\\n",
        "    epochs=10  \\\n",
        "    height=192 \\\n",
        "    width=192 \\\n",
        "    data_root=person_Detection_Swift-YOLO_192/dataset/ \\\n",
        "    load_from=person_Detection_Swift-YOLO_192/pretrain.pth"
      ]
    },
    {
      "cell_type": "markdown",
      "metadata": {
        "id": "HLiV7ylZeLYR"
      },
      "source": [
        "### 📝Evaluate the model\n",
        "After exporting the model, you can evaluate the model on the test dataset.\n",
        "You can also refer to the [documentation](https://sensecraftma.seeed.cc/tutorials/export/overview) for more details.\n",
        "\n",
        "\n",
        "```bash\n",
        "python3 tools/inference.py \\\n",
        "    \"<CONFIG_FILE_PATH>\" \\\n",
        "    \"<CHECKPOINT_FILE_PATH>\"\n",
        "```"
      ]
    },
    {
      "cell_type": "markdown",
      "metadata": {
        "id": "S3g0bgbQeLYR"
      },
      "source": [
        "### Evaluate the PyTorch model"
      ]
    },
    {
      "cell_type": "code",
      "execution_count": null,
      "metadata": {
        "id": "2-RPg0J3eLYR"
      },
      "outputs": [],
      "source": [
        "!sscma.inference configs/swift_yolo/swift_yolo_tiny_1xb16_300e_coco.py ${CHECKPOINT_FILE_PATH%.*}.pth \\\n",
        "--cfg-options  \\\n",
        "    work_dir=person_Detection_Swift-YOLO_192 \\\n",
        "    num_classes=1 \\\n",
        "    epochs=10  \\\n",
        "    height=192 \\\n",
        "    width=192 \\\n",
        "    data_root=person_Detection_Swift-YOLO_192/dataset/ \\\n",
        "    load_from=person_Detection_Swift-YOLO_192/pretrain.pth"
      ]
    },
    {
      "cell_type": "markdown",
      "metadata": {
        "id": "c71naLbKeLYS"
      },
      "source": [
        "### Evaluate the ONNX model"
      ]
    },
    {
      "cell_type": "code",
      "execution_count": null,
      "metadata": {
        "id": "7xunYIs7eLYS"
      },
      "outputs": [],
      "source": [
        "!sscma.inference configs/swift_yolo/swift_yolo_tiny_1xb16_300e_coco.py ${CHECKPOINT_FILE_PATH%.*}_float32.onnx \\\n",
        "--cfg-options  \\\n",
        "    work_dir=person_Detection_Swift-YOLO_192 \\\n",
        "    num_classes=1 \\\n",
        "    epochs=10  \\\n",
        "    height=192 \\\n",
        "    width=192 \\\n",
        "    data_root=person_Detection_Swift-YOLO_192/dataset/ \\\n",
        "    load_from=person_Detection_Swift-YOLO_192/pretrain.pth"
      ]
    },
    {
      "cell_type": "markdown",
      "metadata": {
        "id": "jH4wFifreLYS"
      },
      "source": [
        "### Evaluate the TFLite FLOAT32 model"
      ]
    },
    {
      "cell_type": "code",
      "execution_count": null,
      "metadata": {
        "id": "0r-YhLP5eLYT"
      },
      "outputs": [],
      "source": [
        "!sscma.inference configs/swift_yolo/swift_yolo_tiny_1xb16_300e_coco.py ${CHECKPOINT_FILE_PATH%.*}_float32.tflite \\\n",
        "--cfg-options  \\\n",
        "    work_dir=person_Detection_Swift-YOLO_192 \\\n",
        "    num_classes=1 \\\n",
        "    epochs=10  \\\n",
        "    height=192 \\\n",
        "    width=192 \\\n",
        "    data_root=person_Detection_Swift-YOLO_192/dataset/ \\\n",
        "    load_from=person_Detection_Swift-YOLO_192/pretrain.pth"
      ]
    },
    {
      "cell_type": "markdown",
      "metadata": {
        "id": "x7MmECcZeLYT"
      },
      "source": [
        "### Evaluate the TFLite INT8 model"
      ]
    },
    {
      "cell_type": "code",
      "execution_count": null,
      "metadata": {
        "id": "NL0q7OXReLYT"
      },
      "outputs": [],
      "source": [
        "!sscma.inference configs/swift_yolo/swift_yolo_tiny_1xb16_300e_coco.py ${CHECKPOINT_FILE_PATH%.*}_int8.tflite \\\n",
        "--cfg-options  \\\n",
        "    work_dir=person_Detection_Swift-YOLO_192 \\\n",
        "    num_classes=1 \\\n",
        "    epochs=10  \\\n",
        "    height=192 \\\n",
        "    width=192 \\\n",
        "    data_root=person_Detection_Swift-YOLO_192/dataset/ \\\n",
        "    load_from=person_Detection_Swift-YOLO_192/pretrain.pth"
      ]
    },
    {
      "cell_type": "markdown",
      "metadata": {
        "id": "XngfZqoPeLYU"
      },
      "source": [
        "## 🤖 Deploy the model\n",
        "After model training, evaluation and export, you can deploy the model to your device. You can refer to [Documentation](https://sensecraftma.seeed.cc/deploy/overview) for more details."
      ]
    },
    {
      "cell_type": "code",
      "execution_count": null,
      "metadata": {
        "id": "IDhE8J5veLYU"
      },
      "outputs": [],
      "source": [
        "%ls -lh person_Detection_Swift-YOLO_192/"
      ]
    },
    {
      "cell_type": "markdown",
      "metadata": {
        "id": "Spg46SZreLYU"
      },
      "source": [
        "### Thanks for Trying Out SSCMA 🎉\n",
        "\n",
        "Congratulations, you have completed this tutorial. If you are interested in more application scenarios or our projects, please feel free to give [SSCMA](https://github.com/Seeed-Studio/ModelAssistant) a star ✨ on GitHub.\n",
        "\n",
        "If you have any questions about this tutorial, please also feel free to [submit an issue](https://github.com/Seeed-Studio/ModelAssistant/issues)."
      ]
    }
  ],
  "metadata": {
    "kernelspec": {
      "display_name": "Python 3",
      "name": "python3"
    },
    "language_info": {
      "codemirror_mode": {
        "name": "ipython",
        "version": 3
      },
      "file_extension": ".py",
      "mimetype": "text/x-python",
      "name": "python",
      "nbconvert_exporter": "python",
      "pygments_lexer": "ipython3",
      "version": "3.8.17"
    },
    "colab": {
      "provenance": [],
      "toc_visible": true,
      "gpuType": "T4",
      "runtime_attributes": {
        "runtime_version": "2025.07"
      }
    },
    "accelerator": "GPU"
  },
  "nbformat": 4,
  "nbformat_minor": 0
}